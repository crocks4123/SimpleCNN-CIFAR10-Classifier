{
  "cells": [
    {
      "cell_type": "code",
      "execution_count": null,
      "metadata": {
        "id": "ffRm0hvmljjb"
      },
      "outputs": [],
      "source": [
        "import os\n",
        "import time\n",
        "import numpy as np\n",
        "import matplotlib.pyplot as plt\n",
        "import matplotlib as mpl\n",
        "%matplotlib inline"
      ]
    },
    {
      "cell_type": "code",
      "execution_count": null,
      "metadata": {
        "colab": {
          "base_uri": "https://localhost:8080/"
        },
        "id": "MuNspKKDlp1K",
        "outputId": "0d0d4ac2-a9bc-45aa-d071-77fe6103e2f4"
      },
      "outputs": [
        {
          "name": "stdout",
          "output_type": "stream",
          "text": [
            "Downloading data from https://www.cs.toronto.edu/~kriz/cifar-10-python.tar.gz\n",
            "170498071/170498071 [==============================] - 2s 0us/step\n"
          ]
        },
        {
          "name": "stderr",
          "output_type": "stream",
          "text": [
            "<ipython-input-2-2d3a2dddd027>:6: DeprecationWarning: `np.float` is a deprecated alias for the builtin `float`. To silence this warning, use `float` by itself. Doing this will not modify any behavior and is safe. If you specifically wanted the numpy scalar type, use `np.float64` here.\n",
            "Deprecated in NumPy 1.20; for more details and guidance: https://numpy.org/devdocs/release/1.20.0-notes.html#deprecations\n",
            "  xVal = xTrain[49000:, :].astype(np.float)\n",
            "<ipython-input-2-2d3a2dddd027>:9: DeprecationWarning: `np.float` is a deprecated alias for the builtin `float`. To silence this warning, use `float` by itself. Doing this will not modify any behavior and is safe. If you specifically wanted the numpy scalar type, use `np.float64` here.\n",
            "Deprecated in NumPy 1.20; for more details and guidance: https://numpy.org/devdocs/release/1.20.0-notes.html#deprecations\n",
            "  xTrain = xTrain[:49000, :].astype(np.float)\n"
          ]
        },
        {
          "name": "stdout",
          "output_type": "stream",
          "text": [
            "Train image shape:    (49000, 32, 32, 3)\n",
            "Train label shape:    (49000,)\n",
            "Validate image shape: (1000, 32, 32, 3)\n",
            "Validate label shape: (1000,)\n",
            "Test image shape:     (10000, 32, 32, 3)\n",
            "Test label shape:     (10000,)\n"
          ]
        },
        {
          "name": "stderr",
          "output_type": "stream",
          "text": [
            "<ipython-input-2-2d3a2dddd027>:12: DeprecationWarning: `np.float` is a deprecated alias for the builtin `float`. To silence this warning, use `float` by itself. Doing this will not modify any behavior and is safe. If you specifically wanted the numpy scalar type, use `np.float64` here.\n",
            "Deprecated in NumPy 1.20; for more details and guidance: https://numpy.org/devdocs/release/1.20.0-notes.html#deprecations\n",
            "  xTest = xTest.astype(np.float)\n"
          ]
        }
      ],
      "source": [
        "# Load the CIFAR10 dataset\n",
        "from keras.datasets import cifar10\n",
        "baseDir = os.path.dirname(os.path.abspath('__file__')) + '/'\n",
        "classesName = ['plane', 'car', 'bird', 'cat', 'deer', 'dog', 'frog', 'horse', 'ship', 'truck']\n",
        "(xTrain, yTrain), (xTest, yTest) = cifar10.load_data()\n",
        "xVal = xTrain[49000:, :].astype(np.float)\n",
        "yVal = np.squeeze(yTrain[49000:, :]) # this line of code appears to be extracting a \n",
        "# subset of data from yTrain and returning it in a format that may be more useful for downstream calculations or analysis.\n",
        "xTrain = xTrain[:49000, :].astype(np.float)\n",
        "yTrain = np.squeeze(yTrain[:49000, :])\n",
        "yTest = np.squeeze(yTest)\n",
        "xTest = xTest.astype(np.float)\n",
        "\n",
        "# np.squeeze(): This is a NumPy function that removes single-dimensional entries from an array. \n",
        "# It is being applied to the subset of data selected in the previous step, which means that if any of the rows or \n",
        "# columns of this subset have only one entry, np.squeeze() will remove that dimension and return an array with fewer dimensions.\n",
        "\n",
        "# Show dimension for each variable\n",
        "print ('Train image shape:    {0}'.format(xTrain.shape))\n",
        "print ('Train label shape:    {0}'.format(yTrain.shape))\n",
        "print ('Validate image shape: {0}'.format(xVal.shape))\n",
        "print ('Validate label shape: {0}'.format(yVal.shape))\n",
        "print ('Test image shape:     {0}'.format(xTest.shape))\n",
        "print ('Test label shape:     {0}'.format(yTest.shape))"
      ]
    },
    {
      "cell_type": "code",
      "execution_count": null,
      "metadata": {
        "colab": {
          "base_uri": "https://localhost:8080/",
          "height": 500
        },
        "id": "_7pfka09l1Fg",
        "outputId": "319750fa-c1aa-4e4f-bce6-8c659efc47db"
      },
      "outputs": [
        {
          "name": "stderr",
          "output_type": "stream",
          "text": [
            "WARNING:matplotlib.image:Clipping input data to the valid range for imshow with RGB data ([0..1] for floats or [0..255] for integers).\n",
            "WARNING:matplotlib.image:Clipping input data to the valid range for imshow with RGB data ([0..1] for floats or [0..255] for integers).\n",
            "WARNING:matplotlib.image:Clipping input data to the valid range for imshow with RGB data ([0..1] for floats or [0..255] for integers).\n",
            "WARNING:matplotlib.image:Clipping input data to the valid range for imshow with RGB data ([0..1] for floats or [0..255] for integers).\n"
          ]
        },
        {
          "data": {
            "image/png": "[encoded data removed]",
            "text/plain": [
              "<Figure size 640x480 with 4 Axes>"
            ]
          },
          "metadata": {},
          "output_type": "display_data"
        }
      ],
      "source": [
        "# Show some CIFAR10 images\n",
        "plt.subplot(221)\n",
        "plt.imshow(xTrain[0])\n",
        "plt.axis('off')\n",
        "plt.title(classesName[yTrain[0]])\n",
        "plt.subplot(222)\n",
        "plt.imshow(xTrain[1])\n",
        "plt.axis('off')\n",
        "plt.title(classesName[yTrain[1]])\n",
        "plt.subplot(223)\n",
        "plt.imshow(xVal[0])\n",
        "plt.axis('off')\n",
        "plt.title(classesName[yVal[1]])\n",
        "plt.subplot(224)\n",
        "plt.imshow(xTest[0])\n",
        "plt.axis('off')\n",
        "plt.title(classesName[yTest[0]])\n",
        "plt.savefig(baseDir+'svm0.png')\n",
        "# plt.clf()\n",
        "plt.show()\n",
        "# print(xTrain[0])"
      ]
    },
    {
      "cell_type": "code",
      "execution_count": null,
      "metadata": {
        "colab": {
          "base_uri": "https://localhost:8080/"
        },
        "id": "ebp5evtRmibT",
        "outputId": "9219b48a-9f19-45b0-94ea-92343554c6de"
      },
      "outputs": [
        {
          "name": "stdout",
          "output_type": "stream",
          "text": [
            "(49000, 32, 32, 3)\n",
            "(49000,)\n",
            "(49000, 3072)\n",
            "[ 59.  62.  63. ... 123.  92.  72.]\n",
            "(49000, 3072)\n",
            "[-0.5372549  -0.51372549 -0.50588235 ... -0.03529412 -0.27843137\n",
            " -0.43529412]\n"
          ]
        }
      ],
      "source": [
        "# Reshaping Data into a Vector and Normalizing it (-1 to 1)\n",
        "print(xTrain.shape)\n",
        "print(yTrain.shape)\n",
        "xTrain = np.reshape(xTrain, (xTrain.shape[0], -1)) # The -1 means that the corresponding dimension is calculated from the other given dimensions.\n",
        "xVal = np.reshape(xVal, (xVal.shape[0], -1))\n",
        "xTest = np.reshape(xTest, (xTest.shape[0], -1))\n",
        "print(xTrain.shape) \n",
        "print(xTrain[0])\n",
        "\n",
        "# Normalize \n",
        "xTrain=((xTrain/255)*2)-1 \n",
        "print(xTrain.shape)\n",
        "print(xTrain[0])"
      ]
    },
    {
      "cell_type": "code",
      "execution_count": null,
      "metadata": {
        "colab": {
          "base_uri": "https://localhost:8080/"
        },
        "id": "1Hk44cYbnJSC",
        "outputId": "97a4adba-0eb8-4c84-d7ea-a7096e9a942d"
      },
      "outputs": [
        {
          "name": "stdout",
          "output_type": "stream",
          "text": [
            "[6 9 9 ... 6 6 4]\n",
            "(3000, 3072)\n",
            "(3000,)\n"
          ]
        }
      ],
      "source": [
        "#Choosing a smaller dataset\n",
        "xTrain=xTrain[:3000,:]\n",
        "yTrain=yTrain[:3000]\n",
        "print(yTrain)\n",
        "print(xTrain.shape)\n",
        "print(yTrain.shape)"
      ]
    },
    {
      "cell_type": "markdown",
      "metadata": {
        "id": "Gk1TUHTDnfFY"
      },
      "source": [
        "## SVKM LINEAR KERNEL"
      ]
    },
    {
      "cell_type": "code",
      "execution_count": null,
      "metadata": {
        "id": "Y2Md0H1tnb2l"
      },
      "outputs": [],
      "source": [
        "from sklearn import svm\n",
        "# reference taken from Final_Report by OSAMAKHAAN cifar10 case study report\n",
        "def svm_linear(c):\n",
        "    svc = svm.SVC(probability = False, kernel = 'linear', C = c)\n",
        "    \n",
        "    svc.fit(xTrain, yTrain) \n",
        "    \n",
        "    # Find the prediction and accuracy on the training set.\n",
        "    Yhat_svc_linear_train = svc.predict(xTrain)\n",
        "    acc_train = np.mean(Yhat_svc_linear_train == yTrain)\n",
        "    acc_train_svm_linear.append(acc_train)\n",
        "    print('Train Accuracy = {0:f}'.format(acc_train))\n",
        "    \n",
        "    # Find the prediction and accuracy on the test set.\n",
        "    Yhat_svc_linear_test = svc.predict(xVal)\n",
        "    acc_test = np.mean(Yhat_svc_linear_test == yVal)\n",
        "    acc_test_svm_linear.append(acc_test)\n",
        "    print('Test Accuracy = {0:f}'.format(acc_test)) \n",
        "    \n",
        "    "
      ]
    },
    {
      "cell_type": "code",
      "execution_count": null,
      "metadata": {
        "colab": {
          "base_uri": "https://localhost:8080/",
          "height": 725
        },
        "id": "9lJolGFintVK",
        "outputId": "3b09a2b2-2a97-475b-faa3-39bf874822a5"
      },
      "outputs": [
        {
          "name": "stdout",
          "output_type": "stream",
          "text": [
            "Train Accuracy = 0.354667\n",
            "Test Accuracy = 0.098000\n",
            "Train Accuracy = 0.484667\n",
            "Test Accuracy = 0.188000\n",
            "Train Accuracy = 0.709333\n",
            "Test Accuracy = 0.253000\n",
            "Train Accuracy = 0.989667\n",
            "Test Accuracy = 0.286000\n",
            "Train Accuracy = 1.000000\n",
            "Test Accuracy = 0.279000\n",
            "Train Accuracy = 1.000000\n",
            "Test Accuracy = 0.279000\n",
            "Train Accuracy = 1.000000\n",
            "Test Accuracy = 0.279000\n"
          ]
        },
        {
          "data": {
            "image/png": "[encoded data removed]",
            "text/plain": [
              "<Figure size 640x480 with 1 Axes>"
            ]
          },
          "metadata": {},
          "output_type": "display_data"
        }
      ],
      "source": [
        "c_svm_linear = [0.0001,0.001,0.01,0.1,1,10,100]\n",
        "acc_train_svm_linear = []\n",
        "acc_test_svm_linear = []\n",
        "\n",
        "for c in c_svm_linear:\n",
        "    svm_linear(c)\n",
        "\n",
        "plt.plot(c_svm_linear, acc_train_svm_linear,'.-',color='red')\n",
        "plt.plot(c_svm_linear, acc_test_svm_linear,'.-',color='orange')\n",
        "plt.xlabel('c')\n",
        "plt.ylabel('Accuracy')\n",
        "plt.title(\"Plot of accuracy vs c for training and test data\")\n",
        "plt.grid()"
      ]
    },
    {
      "cell_type": "markdown",
      "metadata": {
        "id": "_4Fte3TxsGRm"
      },
      "source": [
        "## SVM POLY KERNEL"
      ]
    },
    {
      "cell_type": "code",
      "execution_count": null,
      "metadata": {
        "id": "XKHqu88WnzKV"
      },
      "outputs": [],
      "source": [
        "acc_train_svm_poly = []\n",
        "acc_test_svm_poly = []\n",
        "\n",
        "def svm_polynomial(c):\n",
        "\n",
        "    svc_polynomial = svm.SVC(probability = False, kernel = 'poly', C = c)\n",
        "    \n",
        "    \n",
        "    svc_polynomial.fit(xTrain, yTrain) \n",
        "    \n",
        "    # Find the prediction and accuracy on the training set.\n",
        "    Yhat_svc_polynomial_train = svc_polynomial.predict(xTrain)\n",
        "    acc_train = np.mean(Yhat_svc_polynomial_train == yTrain)\n",
        "    acc_train_svm_poly.append(acc_train)\n",
        "    print('Accuracy = {0:f}'.format(acc_train))\n",
        "    \n",
        "    # Find the prediction and accuracy on the test set.\n",
        "    Yhat_svc_polynomial_test = svc_polynomial.predict(xVal)\n",
        "    acc_test = np.mean(Yhat_svc_polynomial_test == yVal)\n",
        "    acc_test_svm_poly.append(acc_test)\n",
        "    print('Accuracy = {0:f}'.format(acc_test))"
      ]
    },
    {
      "cell_type": "code",
      "execution_count": null,
      "metadata": {
        "colab": {
          "base_uri": "https://localhost:8080/",
          "height": 725
        },
        "id": "8RbcZUN2sZeM",
        "outputId": "f02d0868-58b7-4107-8bb6-2b518b916682"
      },
      "outputs": [
        {
          "name": "stdout",
          "output_type": "stream",
          "text": [
            "Accuracy = 0.107333\n",
            "Accuracy = 0.087000\n",
            "Accuracy = 0.107333\n",
            "Accuracy = 0.087000\n",
            "Accuracy = 0.120667\n",
            "Accuracy = 0.087000\n",
            "Accuracy = 0.272333\n",
            "Accuracy = 0.125000\n",
            "Accuracy = 0.722000\n",
            "Accuracy = 0.265000\n",
            "Accuracy = 0.963667\n",
            "Accuracy = 0.256000\n",
            "Accuracy = 0.998667\n",
            "Accuracy = 0.247000\n"
          ]
        },
        {
          "data": {
            "image/png": "[encoded data removed]",
            "text/plain": [
              "<Figure size 640x480 with 1 Axes>"
            ]
          },
          "metadata": {},
          "output_type": "display_data"
        }
      ],
      "source": [
        "c_svm_poly = [0.0001,0.001,0.01,0.1,1,10,100]\n",
        "\n",
        "\n",
        "for c in c_svm_poly:\n",
        "    svm_polynomial(c)\n",
        "\n",
        "plt.plot(c_svm_poly, acc_train_svm_poly,'.-',color='red')\n",
        "plt.plot(c_svm_poly, acc_test_svm_poly,'.-',color='orange')\n",
        "plt.xlabel('c')\n",
        "plt.ylabel('Accuracy')\n",
        "plt.title(\"Plot of accuracy vs c for training and test data\")\n",
        "plt.grid()"
      ]
    },
    {
      "cell_type": "markdown",
      "metadata": {
        "id": "xgDa77pPthHc"
      },
      "source": [
        "## SVM RBF KERNEL"
      ]
    },
    {
      "cell_type": "code",
      "execution_count": null,
      "metadata": {
        "id": "ycLFXYvas6wQ"
      },
      "outputs": [],
      "source": [
        "def svm_rbf(c, g):\n",
        "    svc_rbf = svm.SVC(probability = False, kernel = 'rbf', C = c, gamma = g)\n",
        "    \n",
        "    # Fit the classifier on the training set.\n",
        "    svc_rbf.fit(xTrain, yTrain) \n",
        "    \n",
        "    # Find the prediction and accuracy on the training set.\n",
        "    Yhat_svc_rbf_train = svc_rbf.predict(xTrain)\n",
        "    acc = np.mean(Yhat_svc_rbf_train == yTrain)\n",
        "    print('Train Accuracy = {0:f}'.format(acc))\n",
        "    acc_train_svm_rbf.append(acc)\n",
        "    \n",
        "    # Find the prediction and accuracy on the test set.\n",
        "    Yhat_svc_rbf_test = svc_rbf.predict(xVal)\n",
        "    acc = np.mean(Yhat_svc_rbf_test == yVal)\n",
        "    print('Test Accuracy = {0:f}'.format(acc))\n",
        "    acc_test_svm_rbf.append(acc)"
      ]
    },
    {
      "cell_type": "code",
      "execution_count": null,
      "metadata": {
        "colab": {
          "background_save": true,
          "base_uri": "https://localhost:8080/"
        },
        "id": "d51T84sVtwYg",
        "outputId": "8b5e887a-a992-4c91-84f8-3e042c6ab945"
      },
      "outputs": [
        {
          "name": "stdout",
          "output_type": "stream",
          "text": [
            "Train Accuracy = 0.107333\n",
            "Test Accuracy = 0.079000\n",
            "Train Accuracy = 0.107333\n",
            "Test Accuracy = 0.079000\n",
            "Train Accuracy = 0.107333\n",
            "Test Accuracy = 0.079000\n",
            "Train Accuracy = 0.307333\n",
            "Test Accuracy = 0.119000\n",
            "Train Accuracy = 0.487333\n",
            "Test Accuracy = 0.119000\n",
            "Train Accuracy = 0.848333\n",
            "Test Accuracy = 0.105000\n",
            "Train Accuracy = 1.000000\n",
            "Test Accuracy = 0.119000\n"
          ]
        },
        {
          "data": {
            "image/png": "[encoded data removed]",
            "text/plain": [
              "<Figure size 640x480 with 1 Axes>"
            ]
          },
          "metadata": {},
          "output_type": "display_data"
        }
      ],
      "source": [
        "acc_train_svm_rbf= []\n",
        "acc_test_svm_rbf = []\n",
        "c_svm_rbf = [0.0001,0.001,0.01,0.1,1,10,100]\n",
        "\n",
        "for c in c_svm_rbf:\n",
        "     svm_rbf(c, 'auto')\n",
        "    \n",
        "plt.plot(c_svm_rbf, acc_train_svm_rbf,'.-',color='red')\n",
        "plt.plot(c_svm_rbf, acc_test_svm_rbf,'.-',color='orange')\n",
        "plt.xlabel('c')\n",
        "plt.ylabel('Accuracy')\n",
        "plt.title(\"Plot of accuracy vs c for training and test data\")\n",
        "plt.grid()"
      ]
    },
    {
      "cell_type": "markdown",
      "metadata": {
        "id": "1GYbHeokubbC"
      },
      "source": [
        "Train Accuracy = 0.107333\n",
        "Test Accuracy = 0.079000\n",
        "Train Accuracy = 0.107333\n",
        "Test Accuracy = 0.079000\n",
        "Train Accuracy = 0.107333\n",
        "Test Accuracy = 0.079000\n",
        "Train Accuracy = 0.307333\n",
        "Test Accuracy = 0.119000\n",
        "Train Accuracy = 0.487333\n",
        "Test Accuracy = 0.119000\n",
        "Train Accuracy = 0.848333\n",
        "Test Accuracy = 0.105000\n",
        "Train Accuracy = 1.000000\n",
        "Test Accuracy = 0.119000"
      ]
    },
    {
      "cell_type": "code",
      "execution_count": null,
      "metadata": {
        "colab": {
          "background_save": true
        },
        "id": "96gtogJRuth4",
        "outputId": "5433a029-e062-4b60-9c70-9d2eacb05fb7"
      },
      "outputs": [
        {
          "name": "stdout",
          "output_type": "stream",
          "text": [
            "SVM Linear Training Accuracy =  [0.3546666666666667, 0.4846666666666667, 0.7093333333333334, 0.9896666666666667, 1.0, 1.0, 1.0]\n",
            "SVM Linear Test Accuracy =  [0.098, 0.188, 0.253, 0.286, 0.279, 0.279, 0.279]\n",
            "SVM Polynomial Training Accuracy =  [0.10733333333333334, 0.10733333333333334, 0.12066666666666667, 0.2723333333333333, 0.722, 0.9636666666666667, 0.9986666666666667]\n",
            "SVM Polynomial Test Accuracy =  [0.087, 0.087, 0.087, 0.125, 0.265, 0.256, 0.247]\n",
            "SVM RBF Training Accuracy =  [0.10733333333333334, 0.10733333333333334, 0.10733333333333334, 0.30733333333333335, 0.48733333333333334, 0.8483333333333334, 1.0]\n",
            "SVM RBF Test Accuracy =  [0.079, 0.079, 0.079, 0.119, 0.119, 0.105, 0.119]\n"
          ]
        }
      ],
      "source": [
        "print(\"SVM Linear Training Accuracy = \", acc_train_svm_linear)\n",
        "print(\"SVM Linear Test Accuracy = \", acc_test_svm_linear)\n",
        "print(\"SVM Polynomial Training Accuracy = \", acc_train_svm_poly)\n",
        "print(\"SVM Polynomial Test Accuracy = \", acc_test_svm_poly)\n",
        "print(\"SVM RBF Training Accuracy = \", acc_train_svm_rbf)\n",
        "print(\"SVM RBF Test Accuracy = \", acc_test_svm_rbf)"
      ]
    },
    {
      "cell_type": "code",
      "execution_count": null,
      "metadata": {
        "colab": {
          "background_save": true
        },
        "id": "huTbn1nNuuGi"
      },
      "outputs": [],
      "source": []
    }
  ],
  "metadata": {
    "colab": {
      "provenance": []
    },
    "kernelspec": {
      "display_name": "Python 3",
      "name": "python3"
    },
    "language_info": {
      "name": "python"
    }
  },
  "nbformat": 4,
  "nbformat_minor": 0
}
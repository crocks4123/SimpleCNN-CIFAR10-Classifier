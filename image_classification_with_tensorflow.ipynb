{
  "nbformat": 4,
  "nbformat_minor": 0,
  "metadata": {
    "colab": {
      "provenance": []
    },
    "kernelspec": {
      "name": "python3",
      "display_name": "Python 3"
    },
    "language_info": {
      "name": "python"
    }
  },
  "cells": [
    {
      "cell_type": "code",
      "execution_count": 3,
      "metadata": {
        "colab": {
          "base_uri": "https://localhost:8080/"
        },
        "id": "E9uipkeiWUg5",
        "outputId": "e0b01882-2c84-44ce-bcd8-de8e393c2be4"
      },
      "outputs": [
        {
          "output_type": "stream",
          "name": "stdout",
          "text": [
            "Downloading data from https://www.cs.toronto.edu/~kriz/cifar-10-python.tar.gz\n",
            "170498071/170498071 [==============================] - 4s 0us/step\n",
            "Epoch 1/10\n",
            "1563/1563 [==============================] - 80s 51ms/step - loss: 1.5143 - accuracy: 0.4503 - val_loss: 1.2235 - val_accuracy: 0.5649\n",
            "Epoch 2/10\n",
            "1563/1563 [==============================] - 79s 51ms/step - loss: 1.1417 - accuracy: 0.5966 - val_loss: 1.0755 - val_accuracy: 0.6214\n",
            "Epoch 3/10\n",
            "1563/1563 [==============================] - 81s 52ms/step - loss: 0.9846 - accuracy: 0.6572 - val_loss: 0.9910 - val_accuracy: 0.6573\n",
            "Epoch 4/10\n",
            "1563/1563 [==============================] - 78s 50ms/step - loss: 0.8883 - accuracy: 0.6881 - val_loss: 0.9444 - val_accuracy: 0.6795\n",
            "Epoch 5/10\n",
            "1563/1563 [==============================] - 80s 51ms/step - loss: 0.8101 - accuracy: 0.7177 - val_loss: 0.9322 - val_accuracy: 0.6788\n",
            "Epoch 6/10\n",
            "1563/1563 [==============================] - 78s 50ms/step - loss: 0.7509 - accuracy: 0.7389 - val_loss: 0.8851 - val_accuracy: 0.7041\n",
            "Epoch 7/10\n",
            "1563/1563 [==============================] - 79s 50ms/step - loss: 0.6996 - accuracy: 0.7572 - val_loss: 0.8584 - val_accuracy: 0.7106\n",
            "Epoch 8/10\n",
            "1563/1563 [==============================] - 79s 50ms/step - loss: 0.6549 - accuracy: 0.7699 - val_loss: 0.8689 - val_accuracy: 0.7103\n",
            "Epoch 9/10\n",
            "1563/1563 [==============================] - 78s 50ms/step - loss: 0.6149 - accuracy: 0.7846 - val_loss: 0.8982 - val_accuracy: 0.7023\n",
            "Epoch 10/10\n",
            "1563/1563 [==============================] - 79s 51ms/step - loss: 0.5762 - accuracy: 0.7986 - val_loss: 0.8726 - val_accuracy: 0.7172\n"
          ]
        },
        {
          "output_type": "execute_result",
          "data": {
            "text/plain": [
              "<keras.callbacks.History at 0x7fb185a85790>"
            ]
          },
          "metadata": {},
          "execution_count": 3
        }
      ],
      "source": [
        "import tensorflow as tf\n",
        "from tensorflow.keras.datasets import cifar10\n",
        "from tensorflow.keras.models import Sequential\n",
        "from tensorflow.keras.layers import Dense, Flatten, Conv2D, MaxPooling2D\n",
        "\n",
        "# Load CIFAR-10 dataset\n",
        "(x_train, y_train), (x_test, y_test) = cifar10.load_data()\n",
        "\n",
        "# Normalize pixel values between 0 and 1\n",
        "x_train = x_train / 255.0\n",
        "x_test = x_test / 255.0\n",
        "\n",
        "# Define model architecture\n",
        "model = Sequential([\n",
        "    Conv2D(32, (3, 3), activation='relu', input_shape=(32, 32, 3)),\n",
        "    MaxPooling2D((2, 2)),\n",
        "    Conv2D(64, (3, 3), activation='relu'),\n",
        "    MaxPooling2D((2, 2)),\n",
        "    Conv2D(64, (3, 3), activation='relu'),\n",
        "    Flatten(),\n",
        "    Dense(64, activation='relu'),\n",
        "    Dense(10, activation='softmax')\n",
        "])\n",
        "\n",
        "# Compile the model\n",
        "model.compile(optimizer='adam',\n",
        "              loss='sparse_categorical_crossentropy',\n",
        "              metrics=['accuracy'])\n",
        "\n",
        "# Train the model\n",
        "model.fit(x_train, y_train, epochs=10, validation_data=(x_test, y_test))\n"
      ]
    }
  ]
}